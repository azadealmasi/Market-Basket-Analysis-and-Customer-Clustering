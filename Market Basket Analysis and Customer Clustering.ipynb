{
 "cells": [
  {
   "cell_type": "markdown",
   "id": "d9dbf821",
   "metadata": {},
   "source": [
    "# Market Basket Analysis and Customer Clustering\n",
    "--------------------------------------"
   ]
  },
  {
   "cell_type": "markdown",
   "id": "c71f8b0a",
   "metadata": {},
   "source": [
    "## Introduction\n",
    "In this analysis, I explored customer data from a retail company to extract valuable insights into customer behavior. Our primary objective is to support the company in making informed decisions for future campaigns, pinpointing target audiences for new products, and prioritising their most valuable customers.The dataset utilized in this analysis is a publicly available Kaggle dataset, featuring the following variables:\n",
    "\n",
    "#### People\n",
    "- **ID:** Customer's unique identifier\n",
    "- **Year_Birth:** Customer's birth year\n",
    "- **Education:** Customer's education level\n",
    "- **Marital_Status:** Customer's marital status\n",
    "- **Income:** Customer's yearly household income\n",
    "- **Kidhome:** Number of children in the customer's household\n",
    "- **Teenhome:** Number of teenagers in the customer's household\n",
    "- **Dt_Customer:** Date of customer's enrollment with the company\n",
    "- **Recency:** Number of days since the customer's last purchase\n",
    "- **Complain:** 1 if the customer complained in the last 2 years, 0 otherwise\n",
    "\n",
    "#### Products\n",
    "- **MntWines:** Amount spent on wine in the last 2 years\n",
    "- **MntFruits:** Amount spent on fruits in the last 2 years\n",
    "- **MntMeatProducts:** Amount spent on meat in the last 2 years\n",
    "- **MntFishProducts:** Amount spent on fish in the last 2 years\n",
    "- **MntSweetProducts:** Amount spent on sweets in the last 2 years\n",
    "- **MntGoldProds:** Amount spent on gold in the last 2 years\n",
    "\n",
    "#### Promotion\n",
    "- **NumDealsPurchases:** Number of purchases made with a discount\n",
    "- **AcceptedCmp1:** 1 if the customer accepted the offer in the 1st campaign, 0 otherwise\n",
    "- **AcceptedCmp2:** 1 if the customer accepted the offer in the 2nd campaign, 0 otherwise\n",
    "- **AcceptedCmp3:** 1 if the customer accepted the offer in the 3rd campaign, 0 otherwise\n",
    "- **AcceptedCmp4:** 1 if the customer accepted the offer in the 4th campaign, 0 otherwise\n",
    "- **AcceptedCmp5:** 1 if the customer accepted the offer in the 5th campaign, 0 otherwise\n",
    "- **Response:** 1 if the customer accepted the offer in the last campaign, 0 otherwise\n",
    "\n",
    "#### Place\n",
    "- **NumWebPurchases:** Number of purchases made through the company’s website\n",
    "- **NumCatalogPurchases:** Number of purchases made using a catalog\n",
    "- **NumStorePurchases:** Number of purchases made directly in stores\n",
    "- **NumWebVisitsMonth:** Number of visits to the company’s website in the last month\n",
    "\n"
   ]
  },
  {
   "cell_type": "markdown",
   "id": "eb2d717b",
   "metadata": {},
   "source": [
    "## Import the Required Libraries"
   ]
  },
  {
   "cell_type": "code",
   "execution_count": 94,
   "id": "450de763",
   "metadata": {},
   "outputs": [],
   "source": [
    "import pandas as pd\n",
    "from datetime import datetime\n",
    "from scipy import stats\n",
    "import seaborn as sns\n",
    "import matplotlib.pyplot as plt\n"
   ]
  },
  {
   "cell_type": "markdown",
   "id": "a7a496ca",
   "metadata": {},
   "source": [
    "## EDA and Data Cleaning"
   ]
  },
  {
   "cell_type": "code",
   "execution_count": 95,
   "id": "63e55641",
   "metadata": {},
   "outputs": [],
   "source": [
    "# Read the dataset\n",
    "df_retail = pd.read_csv('/Users/azi/Documents/Projects/Retail Customer Segmentation/marketing_campaign.csv', sep = '\\t')"
   ]
  },
  {
   "cell_type": "code",
   "execution_count": 96,
   "id": "334a6528",
   "metadata": {},
   "outputs": [
    {
     "data": {
      "text/html": [
       "<div>\n",
       "<style scoped>\n",
       "    .dataframe tbody tr th:only-of-type {\n",
       "        vertical-align: middle;\n",
       "    }\n",
       "\n",
       "    .dataframe tbody tr th {\n",
       "        vertical-align: top;\n",
       "    }\n",
       "\n",
       "    .dataframe thead th {\n",
       "        text-align: right;\n",
       "    }\n",
       "</style>\n",
       "<table border=\"1\" class=\"dataframe\">\n",
       "  <thead>\n",
       "    <tr style=\"text-align: right;\">\n",
       "      <th></th>\n",
       "      <th>customer_id</th>\n",
       "      <th>year_birth</th>\n",
       "      <th>education</th>\n",
       "      <th>marital_status</th>\n",
       "      <th>income</th>\n",
       "      <th>kid_home</th>\n",
       "      <th>teen_home</th>\n",
       "      <th>dt_customer</th>\n",
       "      <th>recency</th>\n",
       "      <th>mnt_wines</th>\n",
       "      <th>...</th>\n",
       "      <th>num_web_visits_month</th>\n",
       "      <th>accepted_cpm3</th>\n",
       "      <th>accepted_cpm4</th>\n",
       "      <th>accepted_cpm5</th>\n",
       "      <th>accepted_cpm1</th>\n",
       "      <th>accepted_cpm2</th>\n",
       "      <th>conplain</th>\n",
       "      <th>z_cost_contact</th>\n",
       "      <th>z_revenue</th>\n",
       "      <th>response</th>\n",
       "    </tr>\n",
       "  </thead>\n",
       "  <tbody>\n",
       "    <tr>\n",
       "      <th>0</th>\n",
       "      <td>5524</td>\n",
       "      <td>1957</td>\n",
       "      <td>Graduation</td>\n",
       "      <td>Single</td>\n",
       "      <td>58138.0</td>\n",
       "      <td>0</td>\n",
       "      <td>0</td>\n",
       "      <td>04-09-2012</td>\n",
       "      <td>58</td>\n",
       "      <td>635</td>\n",
       "      <td>...</td>\n",
       "      <td>7</td>\n",
       "      <td>0</td>\n",
       "      <td>0</td>\n",
       "      <td>0</td>\n",
       "      <td>0</td>\n",
       "      <td>0</td>\n",
       "      <td>0</td>\n",
       "      <td>3</td>\n",
       "      <td>11</td>\n",
       "      <td>1</td>\n",
       "    </tr>\n",
       "    <tr>\n",
       "      <th>1</th>\n",
       "      <td>2174</td>\n",
       "      <td>1954</td>\n",
       "      <td>Graduation</td>\n",
       "      <td>Single</td>\n",
       "      <td>46344.0</td>\n",
       "      <td>1</td>\n",
       "      <td>1</td>\n",
       "      <td>08-03-2014</td>\n",
       "      <td>38</td>\n",
       "      <td>11</td>\n",
       "      <td>...</td>\n",
       "      <td>5</td>\n",
       "      <td>0</td>\n",
       "      <td>0</td>\n",
       "      <td>0</td>\n",
       "      <td>0</td>\n",
       "      <td>0</td>\n",
       "      <td>0</td>\n",
       "      <td>3</td>\n",
       "      <td>11</td>\n",
       "      <td>0</td>\n",
       "    </tr>\n",
       "    <tr>\n",
       "      <th>2</th>\n",
       "      <td>4141</td>\n",
       "      <td>1965</td>\n",
       "      <td>Graduation</td>\n",
       "      <td>Together</td>\n",
       "      <td>71613.0</td>\n",
       "      <td>0</td>\n",
       "      <td>0</td>\n",
       "      <td>21-08-2013</td>\n",
       "      <td>26</td>\n",
       "      <td>426</td>\n",
       "      <td>...</td>\n",
       "      <td>4</td>\n",
       "      <td>0</td>\n",
       "      <td>0</td>\n",
       "      <td>0</td>\n",
       "      <td>0</td>\n",
       "      <td>0</td>\n",
       "      <td>0</td>\n",
       "      <td>3</td>\n",
       "      <td>11</td>\n",
       "      <td>0</td>\n",
       "    </tr>\n",
       "    <tr>\n",
       "      <th>3</th>\n",
       "      <td>6182</td>\n",
       "      <td>1984</td>\n",
       "      <td>Graduation</td>\n",
       "      <td>Together</td>\n",
       "      <td>26646.0</td>\n",
       "      <td>1</td>\n",
       "      <td>0</td>\n",
       "      <td>10-02-2014</td>\n",
       "      <td>26</td>\n",
       "      <td>11</td>\n",
       "      <td>...</td>\n",
       "      <td>6</td>\n",
       "      <td>0</td>\n",
       "      <td>0</td>\n",
       "      <td>0</td>\n",
       "      <td>0</td>\n",
       "      <td>0</td>\n",
       "      <td>0</td>\n",
       "      <td>3</td>\n",
       "      <td>11</td>\n",
       "      <td>0</td>\n",
       "    </tr>\n",
       "    <tr>\n",
       "      <th>4</th>\n",
       "      <td>5324</td>\n",
       "      <td>1981</td>\n",
       "      <td>PhD</td>\n",
       "      <td>Married</td>\n",
       "      <td>58293.0</td>\n",
       "      <td>1</td>\n",
       "      <td>0</td>\n",
       "      <td>19-01-2014</td>\n",
       "      <td>94</td>\n",
       "      <td>173</td>\n",
       "      <td>...</td>\n",
       "      <td>5</td>\n",
       "      <td>0</td>\n",
       "      <td>0</td>\n",
       "      <td>0</td>\n",
       "      <td>0</td>\n",
       "      <td>0</td>\n",
       "      <td>0</td>\n",
       "      <td>3</td>\n",
       "      <td>11</td>\n",
       "      <td>0</td>\n",
       "    </tr>\n",
       "  </tbody>\n",
       "</table>\n",
       "<p>5 rows × 29 columns</p>\n",
       "</div>"
      ],
      "text/plain": [
       "   customer_id  year_birth   education marital_status   income  kid_home  \\\n",
       "0         5524        1957  Graduation         Single  58138.0         0   \n",
       "1         2174        1954  Graduation         Single  46344.0         1   \n",
       "2         4141        1965  Graduation       Together  71613.0         0   \n",
       "3         6182        1984  Graduation       Together  26646.0         1   \n",
       "4         5324        1981         PhD        Married  58293.0         1   \n",
       "\n",
       "   teen_home dt_customer  recency  mnt_wines  ...  num_web_visits_month  \\\n",
       "0          0  04-09-2012       58        635  ...                     7   \n",
       "1          1  08-03-2014       38         11  ...                     5   \n",
       "2          0  21-08-2013       26        426  ...                     4   \n",
       "3          0  10-02-2014       26         11  ...                     6   \n",
       "4          0  19-01-2014       94        173  ...                     5   \n",
       "\n",
       "   accepted_cpm3  accepted_cpm4  accepted_cpm5  accepted_cpm1  accepted_cpm2  \\\n",
       "0              0              0              0              0              0   \n",
       "1              0              0              0              0              0   \n",
       "2              0              0              0              0              0   \n",
       "3              0              0              0              0              0   \n",
       "4              0              0              0              0              0   \n",
       "\n",
       "   conplain  z_cost_contact  z_revenue  response  \n",
       "0         0               3         11         1  \n",
       "1         0               3         11         0  \n",
       "2         0               3         11         0  \n",
       "3         0               3         11         0  \n",
       "4         0               3         11         0  \n",
       "\n",
       "[5 rows x 29 columns]"
      ]
     },
     "execution_count": 96,
     "metadata": {},
     "output_type": "execute_result"
    }
   ],
   "source": [
    "# Renaming columns\n",
    "df_retail.columns = ['customer_id','year_birth', 'education','marital_status','income', 'kid_home','teen_home','dt_customer','recency', 'mnt_wines', 'mnt_fruits','mnt_meat', 'mnt_fish','mtn_sweet','mnt_gold','num_deals_purchases','num_web_purchases','num_catalog_purchases','num_store_purchases','num_web_visits_month','accepted_cpm3','accepted_cpm4', 'accepted_cpm5', 'accepted_cpm1', 'accepted_cpm2', 'conplain','z_cost_contact', 'z_revenue', 'response']\n",
    "\n",
    "# Overview the first few rows of the data\n",
    "df_retail.head()"
   ]
  },
  {
   "cell_type": "code",
   "execution_count": 97,
   "id": "4184dc2b",
   "metadata": {},
   "outputs": [
    {
     "data": {
      "text/plain": [
       "(2240, 29)"
      ]
     },
     "metadata": {},
     "output_type": "display_data"
    }
   ],
   "source": [
    "# Displaying the shape of the dataset\n",
    "display(df_retail.shape)"
   ]
  },
  {
   "cell_type": "code",
   "execution_count": 98,
   "id": "6c63de62",
   "metadata": {},
   "outputs": [
    {
     "data": {
      "text/plain": [
       "customer_id               0\n",
       "year_birth                0\n",
       "education                 0\n",
       "marital_status            0\n",
       "income                   24\n",
       "kid_home                  0\n",
       "teen_home                 0\n",
       "dt_customer               0\n",
       "recency                   0\n",
       "mnt_wines                 0\n",
       "mnt_fruits                0\n",
       "mnt_meat                  0\n",
       "mnt_fish                  0\n",
       "mtn_sweet                 0\n",
       "mnt_gold                  0\n",
       "num_deals_purchases       0\n",
       "num_web_purchases         0\n",
       "num_catalog_purchases     0\n",
       "num_store_purchases       0\n",
       "num_web_visits_month      0\n",
       "accepted_cpm3             0\n",
       "accepted_cpm4             0\n",
       "accepted_cpm5             0\n",
       "accepted_cpm1             0\n",
       "accepted_cpm2             0\n",
       "conplain                  0\n",
       "z_cost_contact            0\n",
       "z_revenue                 0\n",
       "response                  0\n",
       "dtype: int64"
      ]
     },
     "metadata": {},
     "output_type": "display_data"
    }
   ],
   "source": [
    "# Display the count of missing values (NaN) in each column of the DataFrame 'df_retail'.\n",
    "display(df_retail.isnull().sum())"
   ]
  },
  {
   "cell_type": "markdown",
   "id": "5080869c",
   "metadata": {},
   "source": [
    "## Remove Missing Values"
   ]
  },
  {
   "cell_type": "code",
   "execution_count": 99,
   "id": "6eaba814",
   "metadata": {},
   "outputs": [],
   "source": [
    "# Replace missing values(NaN) with the mean value\n",
    "df_imputed = df_retail.fillna(df_retail['income'].mean())"
   ]
  },
  {
   "cell_type": "code",
   "execution_count": 100,
   "id": "ef84f7fb",
   "metadata": {},
   "outputs": [
    {
     "data": {
      "text/plain": [
       "customer_id              0\n",
       "year_birth               0\n",
       "education                0\n",
       "marital_status           0\n",
       "income                   0\n",
       "kid_home                 0\n",
       "teen_home                0\n",
       "dt_customer              0\n",
       "recency                  0\n",
       "mnt_wines                0\n",
       "mnt_fruits               0\n",
       "mnt_meat                 0\n",
       "mnt_fish                 0\n",
       "mtn_sweet                0\n",
       "mnt_gold                 0\n",
       "num_deals_purchases      0\n",
       "num_web_purchases        0\n",
       "num_catalog_purchases    0\n",
       "num_store_purchases      0\n",
       "num_web_visits_month     0\n",
       "accepted_cpm3            0\n",
       "accepted_cpm4            0\n",
       "accepted_cpm5            0\n",
       "accepted_cpm1            0\n",
       "accepted_cpm2            0\n",
       "conplain                 0\n",
       "z_cost_contact           0\n",
       "z_revenue                0\n",
       "response                 0\n",
       "dtype: int64"
      ]
     },
     "metadata": {},
     "output_type": "display_data"
    }
   ],
   "source": [
    "# Verifies that the sum of missing values across all columns is equal to zero\n",
    "display(df_imputed.isnull().sum())"
   ]
  },
  {
   "cell_type": "markdown",
   "id": "92db82ce",
   "metadata": {},
   "source": [
    "## Feature Engineering"
   ]
  },
  {
   "cell_type": "code",
   "execution_count": 101,
   "id": "3c414107",
   "metadata": {},
   "outputs": [],
   "source": [
    "# Create a feature with the total spent for the client\n",
    "df_imputed['total_spent'] = df_imputed['mnt_wines']  + df_imputed['mnt_fruits'] + df_imputed['mnt_meat'] + df_imputed['mnt_fish'] + df_imputed['mtn_sweet'] + df_imputed['mnt_gold']\n",
    "\n",
    "# Create a feature with the % of money spent on essential item (food-related) \n",
    "df_imputed['pct_essentials'] = (df_imputed['mnt_fruits'] + df_imputed['mnt_meat'] + df_imputed['mnt_fish'] + df_imputed['mtn_sweet'])/df_imputed['total_spent']\n",
    "\n",
    "# Create a feature with the number of purchases for each client\n",
    "df_imputed['num_purchases'] = df_imputed['num_web_purchases']+df_imputed['num_catalog_purchases'] + df_imputed['num_store_purchases']+df_imputed['num_web_visits_month']\n",
    "\n",
    "# Create a feature with the number of children\n",
    "df_imputed['num_children'] = df_imputed['kid_home'] + df_imputed['teen_home']\n",
    "\n",
    "# Create a feature with the percentage of purchases made with a discount\n",
    "df_imputed['pct_purchases_with_discount'] = df_imputed['num_deals_purchases'] / df_imputed['num_purchases']\n",
    "df_imputed['pct_purchases_with_discount'].fillna(0, inplace=True)\n"
   ]
  },
  {
   "cell_type": "code",
   "execution_count": 102,
   "id": "10d69a46",
   "metadata": {},
   "outputs": [],
   "source": [
    "# Convert the 'dt_customer' column to datetime format with the specified format\n",
    "df_imputed['dt_customer'] = pd.to_datetime(df_imputed['dt_customer'], format='%d-%m-%Y')"
   ]
  },
  {
   "cell_type": "code",
   "execution_count": 103,
   "id": "128f099a",
   "metadata": {},
   "outputs": [
    {
     "name": "stdout",
     "output_type": "stream",
     "text": [
      "Last Date in dt_customer Column: 2014-06-29 00:00:00\n"
     ]
    }
   ],
   "source": [
    "# Calculate and display the last date in the 'dt_customer' column of the DataFrame.\n",
    "last_date = df_imputed['dt_customer'].max()\n",
    "print(\"Last Date in dt_customer Column:\", last_date)\n"
   ]
  },
  {
   "cell_type": "markdown",
   "id": "bb2dfabb",
   "metadata": {},
   "source": [
    "The last recorded date is 2014-06-29. We will use 2015-01-01 as a reference date to calculate the 'days_since_enrollment' column, representing the number of days since customers enrolled with the company."
   ]
  },
  {
   "cell_type": "code",
   "execution_count": 104,
   "id": "98feeffb",
   "metadata": {},
   "outputs": [],
   "source": [
    "# Create a feature with the age of the client, and another with the number of days since they are enrolled with the company\n",
    "df_imputed['dt_customer'] = pd.to_datetime(df_imputed['dt_customer'])\n",
    "\n",
    "df_imputed['days_since_enrollment'] = ((datetime(2015,1,1) - df_imputed['dt_customer']).dt.days)\n",
    "\n",
    "df_imputed['age'] =  2015 - df_imputed['year_birth']"
   ]
  },
  {
   "cell_type": "code",
   "execution_count": 105,
   "id": "173fd436",
   "metadata": {},
   "outputs": [],
   "source": [
    "# Group some categories that have a similar meaning \n",
    "df_imputed['relationship'] = df_imputed['marital_status'].replace({'Married':1,'Together':1,\n",
    "                            'Single':0, 'Divorced':0, 'Widow':0, 'Alone':0, 'Absurd':0,'YOLO':0})\n",
    "\n",
    "df_imputed[\"education\"] = df_imputed[\"education\"].replace({'Basic':'Undergraduate', '2n Cycle':'Undergraduate', \n",
    "                                           'Graduation':'Graduated', 'Master':'Postgraduate', 'PhD':'Postgraduate'})\n"
   ]
  },
  {
   "cell_type": "markdown",
   "id": "239f3287",
   "metadata": {},
   "source": [
    "## Handle Outlier Using Z-Score"
   ]
  },
  {
   "cell_type": "code",
   "execution_count": 106,
   "id": "6a67d837",
   "metadata": {},
   "outputs": [
    {
     "name": "stdout",
     "output_type": "stream",
     "text": [
      "        customer_id   year_birth         income     kid_home    teen_home  \\\n",
      "count   2240.000000  2240.000000    2240.000000  2240.000000  2240.000000   \n",
      "mean    5592.159821  1968.805804   52247.251354     0.444196     0.506250   \n",
      "min        0.000000  1893.000000    1730.000000     0.000000     0.000000   \n",
      "25%     2828.250000  1959.000000   35538.750000     0.000000     0.000000   \n",
      "50%     5458.500000  1970.000000   51741.500000     0.000000     0.000000   \n",
      "75%     8427.750000  1977.000000   68289.750000     1.000000     1.000000   \n",
      "max    11191.000000  1996.000000  666666.000000     2.000000     2.000000   \n",
      "std     3246.662198    11.984069   25037.797168     0.538398     0.544538   \n",
      "\n",
      "                         dt_customer      recency    mnt_wines   mnt_fruits  \\\n",
      "count                           2240  2240.000000  2240.000000  2240.000000   \n",
      "mean   2013-07-10 10:01:42.857142784    49.109375   303.935714    26.302232   \n",
      "min              2012-07-30 00:00:00     0.000000     0.000000     0.000000   \n",
      "25%              2013-01-16 00:00:00    24.000000    23.750000     1.000000   \n",
      "50%              2013-07-08 12:00:00    49.000000   173.500000     8.000000   \n",
      "75%              2013-12-30 06:00:00    74.000000   504.250000    33.000000   \n",
      "max              2014-06-29 00:00:00    99.000000  1493.000000   199.000000   \n",
      "std                              NaN    28.962453   336.597393    39.773434   \n",
      "\n",
      "          mnt_meat  ...  z_revenue     response  total_spent  pct_essentials  \\\n",
      "count  2240.000000  ...     2240.0  2240.000000  2240.000000     2240.000000   \n",
      "mean    166.950000  ...       11.0     0.149107   605.798214        0.421322   \n",
      "min       0.000000  ...       11.0     0.000000     5.000000        0.027523   \n",
      "25%      16.000000  ...       11.0     0.000000    68.750000        0.263311   \n",
      "50%      67.000000  ...       11.0     0.000000   396.000000        0.429356   \n",
      "75%     232.000000  ...       11.0     0.000000  1045.500000        0.570302   \n",
      "max    1725.000000  ...       11.0     1.000000  2525.000000        0.998844   \n",
      "std     225.715373  ...        0.0     0.356274   602.249288        0.194031   \n",
      "\n",
      "       num_purchases  num_children  pct_purchases_with_discount  \\\n",
      "count    2240.000000   2240.000000                  2240.000000   \n",
      "mean       17.853571      0.950446                     0.136315   \n",
      "min         0.000000      0.000000                     0.000000   \n",
      "25%        12.000000      0.000000                     0.066667   \n",
      "50%        17.000000      1.000000                     0.111111   \n",
      "75%        23.000000      1.000000                     0.181818   \n",
      "max        38.000000      3.000000                     0.789474   \n",
      "std         6.550998      0.751803                     0.094969   \n",
      "\n",
      "       days_since_enrollment          age  relationship  \n",
      "count            2240.000000  2240.000000   2240.000000  \n",
      "mean              539.582143    46.194196      0.644643  \n",
      "min               186.000000    19.000000      0.000000  \n",
      "25%               366.750000    38.000000      0.000000  \n",
      "50%               541.500000    45.000000      1.000000  \n",
      "75%               715.000000    56.000000      1.000000  \n",
      "max               885.000000   122.000000      1.000000  \n",
      "std               202.122512    11.984069      0.478728  \n",
      "\n",
      "[8 rows x 35 columns]\n"
     ]
    }
   ],
   "source": [
    "# Summary Statistics of \"df_imputed\" dataset After Outlier Removal\n",
    "summary_stats = df_imputed.describe()\n",
    "print(summary_stats)"
   ]
  },
  {
   "cell_type": "code",
   "execution_count": 107,
   "id": "0999bb0b",
   "metadata": {},
   "outputs": [],
   "source": [
    "# Identify income outliers\n",
    "z_scores_income = stats.zscore(df_imputed['income'])\n",
    "threshold = 3 \n",
    "\n",
    "income_outliers = df_imputed[abs(z_scores_income) > threshold]"
   ]
  },
  {
   "cell_type": "code",
   "execution_count": 108,
   "id": "ecb18215",
   "metadata": {},
   "outputs": [
    {
     "name": "stdout",
     "output_type": "stream",
     "text": [
      "      customer_id  year_birth     education marital_status    income  \\\n",
      "164          8475        1973  Postgraduate        Married  157243.0   \n",
      "617          1503        1976  Postgraduate       Together  162397.0   \n",
      "655          5555        1975     Graduated       Divorced  153924.0   \n",
      "687          1501        1982  Postgraduate        Married  160803.0   \n",
      "1300         5336        1971  Postgraduate       Together  157733.0   \n",
      "1653         4931        1977     Graduated       Together  157146.0   \n",
      "2132        11181        1949  Postgraduate        Married  156924.0   \n",
      "2233         9432        1977     Graduated       Together  666666.0   \n",
      "\n",
      "      kid_home  teen_home dt_customer  recency  mnt_wines  ...  z_revenue  \\\n",
      "164          0          1  2014-03-01       98         20  ...         11   \n",
      "617          1          1  2013-06-03       31         85  ...         11   \n",
      "655          0          0  2014-02-07       81          1  ...         11   \n",
      "687          0          0  2012-08-04       21         55  ...         11   \n",
      "1300         1          0  2013-06-04       37         39  ...         11   \n",
      "1653         0          0  2013-04-29       13          1  ...         11   \n",
      "2132         0          0  2013-08-29       85          2  ...         11   \n",
      "2233         1          0  2013-06-02       23          9  ...         11   \n",
      "\n",
      "      response  total_spent  pct_essentials  num_purchases  num_children  \\\n",
      "164          0         1608        0.986940             22             1   \n",
      "617          0          107        0.186916              2             2   \n",
      "655          0            6        0.666667              0             0   \n",
      "687          0         1717        0.965638             29             0   \n",
      "1300         0           59        0.203390              3             1   \n",
      "1653         0         1730        0.998844             29             0   \n",
      "2132         0            8        0.625000              0             0   \n",
      "2233         0           62        0.661290             13             1   \n",
      "\n",
      "      pct_purchases_with_discount  days_since_enrollment  age  relationship  \n",
      "164                      0.681818                    306   42             1  \n",
      "617                      0.000000                    577   39             1  \n",
      "655                      0.000000                    328   40             0  \n",
      "687                      0.517241                    880   33             1  \n",
      "1300                     0.000000                    576   44             1  \n",
      "1653                     0.000000                    612   38             1  \n",
      "2132                     0.000000                    490   66             1  \n",
      "2233                     0.307692                    578   38             1  \n",
      "\n",
      "[8 rows x 37 columns]\n"
     ]
    }
   ],
   "source": [
    "print(income_outliers)"
   ]
  },
  {
   "cell_type": "code",
   "execution_count": 109,
   "id": "33cbfe98",
   "metadata": {},
   "outputs": [],
   "source": [
    "# Remove income outliers\n",
    "df_imputed = df_imputed[(z_scores_income <= threshold)]\n"
   ]
  },
  {
   "cell_type": "code",
   "execution_count": 110,
   "id": "d3ece4c7",
   "metadata": {},
   "outputs": [
    {
     "name": "stdout",
     "output_type": "stream",
     "text": [
      "count      2232.000000\n",
      "mean      51640.236126\n",
      "std       20601.760369\n",
      "min        1730.000000\n",
      "25%       35434.750000\n",
      "50%       51566.000000\n",
      "75%       68118.000000\n",
      "max      113734.000000\n",
      "Name: income, dtype: float64\n"
     ]
    }
   ],
   "source": [
    "# Summary Statistics of \"Income\" Column After Outlier Removal\n",
    "summary_stats = df_imputed['income'].describe()\n",
    "print(summary_stats)"
   ]
  },
  {
   "cell_type": "code",
   "execution_count": 111,
   "id": "d7ee75b8",
   "metadata": {},
   "outputs": [],
   "source": [
    "z_scores_age = stats.zscore(df_imputed['age'])\n",
    "threshold = 3 \n",
    "age_outliers = df_imputed[abs(z_scores_age) > threshold]"
   ]
  },
  {
   "cell_type": "code",
   "execution_count": 112,
   "id": "0565fe5d",
   "metadata": {},
   "outputs": [
    {
     "name": "stdout",
     "output_type": "stream",
     "text": [
      "     customer_id  year_birth      education marital_status   income  kid_home  \\\n",
      "192         7829        1900  Undergraduate       Divorced  36640.0         1   \n",
      "239        11004        1893  Undergraduate         Single  60182.0         0   \n",
      "339         1150        1899   Postgraduate       Together  83532.0         0   \n",
      "\n",
      "     teen_home dt_customer  recency  mnt_wines  ...  z_revenue  response  \\\n",
      "192          0  2013-09-26       99         15  ...         11         0   \n",
      "239          1  2014-05-17       23          8  ...         11         0   \n",
      "339          0  2013-09-26       36        755  ...         11         0   \n",
      "\n",
      "     total_spent  pct_essentials  num_purchases  num_children  \\\n",
      "192           65        0.384615             10             1   \n",
      "239           22        0.545455              7             1   \n",
      "339         1853        0.471668             15             0   \n",
      "\n",
      "     pct_purchases_with_discount  days_since_enrollment  age  relationship  \n",
      "192                     0.100000                    462  115             0  \n",
      "239                     0.142857                    229  122             0  \n",
      "339                     0.066667                    462  116             1  \n",
      "\n",
      "[3 rows x 37 columns]\n"
     ]
    }
   ],
   "source": [
    "print(age_outliers)"
   ]
  },
  {
   "cell_type": "code",
   "execution_count": 113,
   "id": "93ff42c5",
   "metadata": {},
   "outputs": [],
   "source": [
    "# Remove age outliers\n",
    "df_imputed = df_imputed.loc[abs(z_scores_age) <= threshold]"
   ]
  },
  {
   "cell_type": "code",
   "execution_count": 114,
   "id": "da83a7d3",
   "metadata": {},
   "outputs": [
    {
     "name": "stdout",
     "output_type": "stream",
     "text": [
      "count    2229.000000\n",
      "mean       46.111261\n",
      "std        11.707430\n",
      "min        19.000000\n",
      "25%        38.000000\n",
      "50%        45.000000\n",
      "75%        56.000000\n",
      "max        75.000000\n",
      "Name: age, dtype: float64\n"
     ]
    }
   ],
   "source": [
    "# Summary Statistics of \"age\" Column After Outlier Removal\n",
    "summary_stats = df_imputed['age'].describe()\n",
    "print(summary_stats)"
   ]
  },
  {
   "cell_type": "code",
   "execution_count": 115,
   "id": "2ae712b6",
   "metadata": {},
   "outputs": [
    {
     "name": "stdout",
     "output_type": "stream",
     "text": [
      "The new dataset have 2229 rows.\n"
     ]
    }
   ],
   "source": [
    "print(\"The new dataset have {} rows.\".format(df_imputed.shape[0]))"
   ]
  },
  {
   "cell_type": "markdown",
   "id": "041e1252",
   "metadata": {},
   "source": [
    "## Exploring the Relationships Between Columns"
   ]
  },
  {
   "cell_type": "code",
   "execution_count": 116,
   "id": "60288d07",
   "metadata": {},
   "outputs": [
    {
     "data": {
      "text/plain": [
       "Text(0, 0.5, 'Percentual of Purchases with Discount')"
      ]
     },
     "execution_count": 116,
     "metadata": {},
     "output_type": "execute_result"
    },
    {
     "data": {
      "image/png": "[encoded data removed]",
      "text/plain": [
       "<Figure size 1200x800 with 1 Axes>"
      ]
     },
     "metadata": {},
     "output_type": "display_data"
    }
   ],
   "source": [
    "## Let's check the relationship between the \"offers accepted\", and the \"percentual of purchases with discount\"\n",
    "df_imputed['accepted_sum'] = df_imputed['accepted_cpm3']+df_imputed['accepted_cpm4']+ df_imputed['accepted_cpm5'] + df_imputed['accepted_cpm1'] +df_imputed['accepted_cpm2']\n",
    "\n",
    "# Define the colors\n",
    "custom_palette = [\"#fb8500\", \"#ffb703\", \"#023047\", \"#219ebc\", \"#8ecae6\"]\n",
    "\n",
    "# Create the box plot with custom colors\n",
    "plt.figure(figsize=(12, 8))\n",
    "plt.title('Comparison of Discounted Purchases with Accepted Offers', fontweight='bold')\n",
    "sns.boxplot(data=df_imputed, x='accepted_sum', y='pct_purchases_with_discount', palette=custom_palette)\n",
    "plt.xlabel('Offers Accepted')\n",
    "plt.ylabel('Percentual of Purchases with Discount')\n"
   ]
  },
  {
   "cell_type": "markdown",
   "id": "b39379ad",
   "metadata": {},
   "source": [
    "I won't use the \"accepted~\" features because they have an unexpected opposite correlation and lack clarity. The description suggests they represent whether a customer accepted an offer in a campaign, but it's unclear how they handle cases where customers didn't receive all offers or received more than five. Instead, I'll rely on \"pct_purchases_with_discount\" for a clearer and more straightforward insight."
   ]
  },
  {
   "cell_type": "markdown",
   "id": "89be343d",
   "metadata": {},
   "source": [
    "## Dropping Unimportant Columns for Clustering"
   ]
  },
  {
   "cell_type": "markdown",
   "id": "3be63c32",
   "metadata": {},
   "source": [
    "In preparation for clustering, we'll focus on retaining only the most relevant features to ensure our clusters are based on essential attributes."
   ]
  },
  {
   "cell_type": "code",
   "execution_count": 117,
   "id": "f86a53f8",
   "metadata": {},
   "outputs": [],
   "source": [
    "df= df_imputed.drop(['num_web_visits_month','recency', 'conplain', 'response', 'customer_id','dt_customer',\n",
    "              'year_birth','kid_home','teen_home','mnt_wines', 'mnt_fruits','mnt_meat', 'mnt_fish', \n",
    "              'mtn_sweet', 'mnt_gold', 'num_web_purchases', 'num_catalog_purchases', 'num_store_purchases',\n",
    "              'z_cost_contact','z_revenue', 'accepted_cpm3','accepted_cpm4', 'accepted_cpm5', 'accepted_cpm1',\n",
    "              'accepted_cpm2', 'marital_status', 'accepted_sum'], axis = 1)"
   ]
  },
  {
   "cell_type": "code",
   "execution_count": 118,
   "id": "ac9ae3ec",
   "metadata": {},
   "outputs": [
    {
     "data": {
      "text/html": [
       "<div>\n",
       "<style scoped>\n",
       "    .dataframe tbody tr th:only-of-type {\n",
       "        vertical-align: middle;\n",
       "    }\n",
       "\n",
       "    .dataframe tbody tr th {\n",
       "        vertical-align: top;\n",
       "    }\n",
       "\n",
       "    .dataframe thead th {\n",
       "        text-align: right;\n",
       "    }\n",
       "</style>\n",
       "<table border=\"1\" class=\"dataframe\">\n",
       "  <thead>\n",
       "    <tr style=\"text-align: right;\">\n",
       "      <th></th>\n",
       "      <th>education</th>\n",
       "      <th>income</th>\n",
       "      <th>num_deals_purchases</th>\n",
       "      <th>total_spent</th>\n",
       "      <th>pct_essentials</th>\n",
       "      <th>num_purchases</th>\n",
       "      <th>num_children</th>\n",
       "      <th>pct_purchases_with_discount</th>\n",
       "      <th>days_since_enrollment</th>\n",
       "      <th>age</th>\n",
       "      <th>relationship</th>\n",
       "    </tr>\n",
       "  </thead>\n",
       "  <tbody>\n",
       "    <tr>\n",
       "      <th>0</th>\n",
       "      <td>Graduated</td>\n",
       "      <td>58138.0</td>\n",
       "      <td>3</td>\n",
       "      <td>1617</td>\n",
       "      <td>0.552876</td>\n",
       "      <td>29</td>\n",
       "      <td>0</td>\n",
       "      <td>0.103448</td>\n",
       "      <td>849</td>\n",
       "      <td>58</td>\n",
       "      <td>0</td>\n",
       "    </tr>\n",
       "    <tr>\n",
       "      <th>1</th>\n",
       "      <td>Graduated</td>\n",
       "      <td>46344.0</td>\n",
       "      <td>2</td>\n",
       "      <td>27</td>\n",
       "      <td>0.370370</td>\n",
       "      <td>9</td>\n",
       "      <td>2</td>\n",
       "      <td>0.222222</td>\n",
       "      <td>299</td>\n",
       "      <td>61</td>\n",
       "      <td>0</td>\n",
       "    </tr>\n",
       "    <tr>\n",
       "      <th>2</th>\n",
       "      <td>Graduated</td>\n",
       "      <td>71613.0</td>\n",
       "      <td>1</td>\n",
       "      <td>776</td>\n",
       "      <td>0.396907</td>\n",
       "      <td>24</td>\n",
       "      <td>0</td>\n",
       "      <td>0.041667</td>\n",
       "      <td>498</td>\n",
       "      <td>50</td>\n",
       "      <td>1</td>\n",
       "    </tr>\n",
       "    <tr>\n",
       "      <th>3</th>\n",
       "      <td>Graduated</td>\n",
       "      <td>26646.0</td>\n",
       "      <td>2</td>\n",
       "      <td>53</td>\n",
       "      <td>0.698113</td>\n",
       "      <td>12</td>\n",
       "      <td>1</td>\n",
       "      <td>0.166667</td>\n",
       "      <td>325</td>\n",
       "      <td>31</td>\n",
       "      <td>1</td>\n",
       "    </tr>\n",
       "    <tr>\n",
       "      <th>4</th>\n",
       "      <td>Postgraduate</td>\n",
       "      <td>58293.0</td>\n",
       "      <td>5</td>\n",
       "      <td>422</td>\n",
       "      <td>0.554502</td>\n",
       "      <td>19</td>\n",
       "      <td>1</td>\n",
       "      <td>0.263158</td>\n",
       "      <td>347</td>\n",
       "      <td>34</td>\n",
       "      <td>1</td>\n",
       "    </tr>\n",
       "  </tbody>\n",
       "</table>\n",
       "</div>"
      ],
      "text/plain": [
       "      education   income  num_deals_purchases  total_spent  pct_essentials  \\\n",
       "0     Graduated  58138.0                    3         1617        0.552876   \n",
       "1     Graduated  46344.0                    2           27        0.370370   \n",
       "2     Graduated  71613.0                    1          776        0.396907   \n",
       "3     Graduated  26646.0                    2           53        0.698113   \n",
       "4  Postgraduate  58293.0                    5          422        0.554502   \n",
       "\n",
       "   num_purchases  num_children  pct_purchases_with_discount  \\\n",
       "0             29             0                     0.103448   \n",
       "1              9             2                     0.222222   \n",
       "2             24             0                     0.041667   \n",
       "3             12             1                     0.166667   \n",
       "4             19             1                     0.263158   \n",
       "\n",
       "   days_since_enrollment  age  relationship  \n",
       "0                    849   58             0  \n",
       "1                    299   61             0  \n",
       "2                    498   50             1  \n",
       "3                    325   31             1  \n",
       "4                    347   34             1  "
      ]
     },
     "execution_count": 118,
     "metadata": {},
     "output_type": "execute_result"
    }
   ],
   "source": [
    "df.head()"
   ]
  },
  {
   "cell_type": "markdown",
   "id": "5f36f953",
   "metadata": {},
   "source": [
    "## Education's Impact on Financial Behavior"
   ]
  },
  {
   "cell_type": "code",
   "execution_count": 123,
   "id": "a85024b9",
   "metadata": {},
   "outputs": [
    {
     "data": {
      "image/png": "[encoded data removed]",
      "text/plain": [
       "<Figure size 800x500 with 1 Axes>"
      ]
     },
     "metadata": {},
     "output_type": "display_data"
    },
    {
     "data": {
      "image/png": "[encoded data removed]",
      "text/plain": [
       "<Figure size 800x500 with 1 Axes>"
      ]
     },
     "metadata": {},
     "output_type": "display_data"
    },
    {
     "data": {
      "image/png": "[encoded data removed]",
      "text/plain": [
       "<Figure size 800x500 with 1 Axes>"
      ]
     },
     "metadata": {},
     "output_type": "display_data"
    }
   ],
   "source": [
    "# Define the colors\n",
    "custom_palette = [\"#fb8500\", \"#ffb703\", \"#023047\"]\n",
    "# Purchase behavior vs Education\n",
    "plt.figure(figsize=(8, 5))\n",
    "plt.title(\"Education vs Income\", fontweight='bold', fontsize=12)\n",
    "sns.boxplot(y=df['income'], x=df['education'], palette=custom_palette, linewidth=2)\n",
    "plt.xlabel(\"\")\n",
    "plt.show()\n",
    "\n",
    "plt.figure(figsize=(8, 5))\n",
    "plt.title(\"Education vs Total Spent\", fontweight='bold', fontsize=12)\n",
    "sns.boxplot(y=df['total_spent'], x=df['education'], palette=custom_palette, linewidth=2)\n",
    "plt.xlabel(\"\")\n",
    "plt.show()\n",
    "\n",
    "plt.figure(figsize=(8, 5))\n",
    "plt.title(\"Education vs Number of Purchases\", fontweight='bold', fontsize=12)\n",
    "sns.boxplot(y=df['num_purchases'], x=df['education'], palette=custom_palette, linewidth=2)\n",
    "plt.xlabel(\"\")\n",
    "plt.show()\n"
   ]
  },
  {
   "cell_type": "code",
   "execution_count": null,
   "id": "9da5fc54",
   "metadata": {},
   "outputs": [],
   "source": []
  },
  {
   "cell_type": "code",
   "execution_count": null,
   "id": "2d31b14c",
   "metadata": {},
   "outputs": [],
   "source": []
  }
 ],
 "metadata": {
  "kernelspec": {
   "display_name": "Python 3 (ipykernel)",
   "language": "python",
   "name": "python3"
  },
  "language_info": {
   "codemirror_mode": {
    "name": "ipython",
    "version": 3
   },
   "file_extension": ".py",
   "mimetype": "text/x-python",
   "name": "python",
   "nbconvert_exporter": "python",
   "pygments_lexer": "ipython3",
   "version": "3.10.9"
  }
 },
 "nbformat": 4,
 "nbformat_minor": 5
}
